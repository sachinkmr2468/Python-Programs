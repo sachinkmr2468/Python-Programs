{
 "cells": [
  {
   "cell_type": "markdown",
   "metadata": {},
   "source": [
    "#Python Program for simple interest"
   ]
  },
  {
   "cell_type": "markdown",
   "metadata": {},
   "source": [
    "#Simple interest formula is given by:\n",
    "#Simple Interest = (P x T x R)/100\n",
    "#Where,\n",
    "#P is the principle amount\n",
    "#T is the time and\n",
    "#R is the rate"
   ]
  },
  {
   "cell_type": "code",
   "execution_count": 17,
   "metadata": {},
   "outputs": [
    {
     "name": "stdout",
     "output_type": "stream",
     "text": [
      "enter the priciple amount = 100\n",
      "enter the time duration = 2\n",
      "enter the rate = 2\n",
      "simple interest is 4.0\n"
     ]
    }
   ],
   "source": [
    "p = int(input('enter the priciple amount = '))\n",
    "t = int(input('enter the time duration = '))\n",
    "r = int(input('enter the rate = '))\n",
    "\n",
    "si = (p * t * r)/100\n",
    "print('simple interest is', si)"
   ]
  },
  {
   "cell_type": "code",
   "execution_count": 24,
   "metadata": {},
   "outputs": [
    {
     "name": "stdout",
     "output_type": "stream",
     "text": [
      "enter the principle amount =100\n",
      "enter the rate of interest =2\n",
      "enter the time period =2\n",
      "principle amount is 100\n",
      "rate of interest is 2\n",
      "time period is 2\n",
      "simple interst is 4.0\n"
     ]
    }
   ],
   "source": [
    "def simple_interest(P,R,T):\n",
    "    print('principle amount is', P)\n",
    "    print('rate of interest is', R)\n",
    "    print('time period is', T)\n",
    "    si = (P * T * R)/100\n",
    "    print('simple interst is',si)\n",
    "\n",
    "num1 = int(input('enter the principle amount ='))\n",
    "num2= int(input('enter the rate of interest ='))\n",
    "num3 = int(input('enter the time period ='))\n",
    "simple_interest(num1,num2,num3)"
   ]
  },
  {
   "cell_type": "markdown",
   "metadata": {},
   "source": [
    "# using return statement"
   ]
  },
  {
   "cell_type": "code",
   "execution_count": 27,
   "metadata": {},
   "outputs": [
    {
     "name": "stdout",
     "output_type": "stream",
     "text": [
      "enter the principle amount =100\n",
      "enter the rate of interest =2\n",
      "enter the time period =2\n",
      "principle amount is 100\n",
      "rate of interest is 2\n",
      "time period is 2\n",
      "the simple interest is 4.0\n"
     ]
    }
   ],
   "source": [
    "def simple_interest(P,R,T):\n",
    "    print('principle amount is', P)\n",
    "    print('rate of interest is', R)\n",
    "    print('time period is', T)\n",
    "    si = (P * T * R)/100\n",
    "    return si\n",
    "    \n",
    "\n",
    "num1 = int(input('enter the principle amount ='))\n",
    "num2= int(input('enter the rate of interest ='))\n",
    "num3 = int(input('enter the time period ='))\n",
    "simple_interestis = simple_interest(num1,num2,num3)\n",
    "print('the simple interest is',simple_interestis)"
   ]
  },
  {
   "cell_type": "code",
   "execution_count": null,
   "metadata": {},
   "outputs": [],
   "source": []
  }
 ],
 "metadata": {
  "kernelspec": {
   "display_name": "Python 3",
   "language": "python",
   "name": "python3"
  },
  "language_info": {
   "codemirror_mode": {
    "name": "ipython",
    "version": 3
   },
   "file_extension": ".py",
   "mimetype": "text/x-python",
   "name": "python",
   "nbconvert_exporter": "python",
   "pygments_lexer": "ipython3",
   "version": "3.6.5"
  }
 },
 "nbformat": 4,
 "nbformat_minor": 2
}
