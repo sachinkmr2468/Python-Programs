{
 "cells": [
  {
   "cell_type": "markdown",
   "metadata": {},
   "source": [
    "# Python Program to check Armstrong Number\n",
    "# Input : 153\n",
    "#Output : Yes\n",
    "#153 is an Armstrong number.\n",
    "#1*1*1 + 5*5*5 + 3*3*3 = 153\n"
   ]
  },
  {
   "cell_type": "code",
   "execution_count": null,
   "metadata": {},
   "outputs": [],
   "source": [
    "# check armstrong of 3 digits\n",
    "num = 153\n",
    "sum = 0\n",
    "temp = num\n",
    "\n",
    "while temp>0:\n",
    "    digit = temp % 10\n",
    "    sum = sum + digit **3\n",
    "    temp = temp//10\n",
    "    \n",
    "if sum == num:\n",
    "    print(num,'is a armstrong number')\n",
    "else:\n",
    "    print(num, 'is not a armstrong number')\n",
    "\n",
    "    "
   ]
  },
  {
   "cell_type": "code",
   "execution_count": 4,
   "metadata": {},
   "outputs": [
    {
     "name": "stdout",
     "output_type": "stream",
     "text": [
      "enter the number153\n",
      "order of the entered number is 3\n",
      "153 is a armstrong number\n"
     ]
    }
   ],
   "source": [
    "# check for n digit number\n",
    "num = int(input('enter the number'))\n",
    "order_of_num = len(str(num))\n",
    "print('order of the entered number is', order_of_num)\n",
    "sum = 0\n",
    "# num is of type str here will convert it to integer\n",
    "temp = num\n",
    "\n",
    "while temp > 0:\n",
    "    digit = temp % 10\n",
    "    sum = sum + pow(digit , order_of_num)\n",
    "    temp = temp // 10\n",
    "    \n",
    "if sum == num:\n",
    "    print(num,'is a armstrong number')\n",
    "else:\n",
    "    print(num, 'is not a armstrong number')"
   ]
  },
  {
   "cell_type": "code",
   "execution_count": null,
   "metadata": {},
   "outputs": [],
   "source": []
  }
 ],
 "metadata": {
  "kernelspec": {
   "display_name": "Python 3",
   "language": "python",
   "name": "python3"
  },
  "language_info": {
   "codemirror_mode": {
    "name": "ipython",
    "version": 3
   },
   "file_extension": ".py",
   "mimetype": "text/x-python",
   "name": "python",
   "nbconvert_exporter": "python",
   "pygments_lexer": "ipython3",
   "version": "3.6.5"
  }
 },
 "nbformat": 4,
 "nbformat_minor": 2
}
