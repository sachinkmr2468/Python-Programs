{
 "cells": [
  {
   "cell_type": "markdown",
   "metadata": {},
   "source": [
    "# Python Program for factorial of a number"
   ]
  },
  {
   "cell_type": "code",
   "execution_count": 4,
   "metadata": {},
   "outputs": [
    {
     "name": "stdout",
     "output_type": "stream",
     "text": [
      "120\n"
     ]
    }
   ],
   "source": [
    "num = 6\n",
    "mux = 1\n",
    "for i in range(1,num):\n",
    "    mux = i * mux\n",
    "print(mux)\n",
    "    "
   ]
  },
  {
   "cell_type": "code",
   "execution_count": 6,
   "metadata": {},
   "outputs": [
    {
     "name": "stdout",
     "output_type": "stream",
     "text": [
      "enter a number5\n",
      "factorial of the given number5 is 120\n"
     ]
    }
   ],
   "source": [
    "num = int(input('enter a number'))\n",
    "mux = 1\n",
    "\n",
    "for i in range(1, num+1):\n",
    "    mux = i * mux\n",
    "    \n",
    "print('factorial of the given number{0} is {1}'.format(num, mux))\n",
    "    "
   ]
  },
  {
   "cell_type": "code",
   "execution_count": 9,
   "metadata": {},
   "outputs": [
    {
     "name": "stdout",
     "output_type": "stream",
     "text": [
      "Factorial of 5 is 120\n",
      "the factorial of the given number False\n"
     ]
    }
   ],
   "source": [
    "def factorial(n): \n",
    "    if n < 0: \n",
    "        return 0\n",
    "    elif n == 0 or n == 1: \n",
    "        return 1\n",
    "    else: \n",
    "        fact = 1\n",
    "        while(n > 1): \n",
    "            fact *= n \n",
    "            n -= 1\n",
    "        return fact \n",
    "        \n",
    "num = 5; \n",
    "print(\"Factorial of\",num,\"is\", \n",
    "factorial(num)) \n",
    "print('the factorial of the given number',num is factorial(num))\n",
    "        "
   ]
  },
  {
   "cell_type": "code",
   "execution_count": 10,
   "metadata": {},
   "outputs": [
    {
     "name": "stdout",
     "output_type": "stream",
     "text": [
      "Factorial of 5 is 120\n"
     ]
    }
   ],
   "source": [
    "def factorial(n): \n",
    "  \n",
    "    # single line to find factorial \n",
    "    return 1 if (n==1 or n==0) else n * factorial(n - 1)  \n",
    "  \n",
    "  \n",
    "# Driver Code \n",
    "num = 5\n",
    "print (\"Factorial of\",num,\"is\", \n",
    "      factorial(num)) \n",
    "  "
   ]
  },
  {
   "cell_type": "code",
   "execution_count": null,
   "metadata": {},
   "outputs": [],
   "source": []
  }
 ],
 "metadata": {
  "kernelspec": {
   "display_name": "Python 3",
   "language": "python",
   "name": "python3"
  },
  "language_info": {
   "codemirror_mode": {
    "name": "ipython",
    "version": 3
   },
   "file_extension": ".py",
   "mimetype": "text/x-python",
   "name": "python",
   "nbconvert_exporter": "python",
   "pygments_lexer": "ipython3",
   "version": "3.6.5"
  }
 },
 "nbformat": 4,
 "nbformat_minor": 2
}
