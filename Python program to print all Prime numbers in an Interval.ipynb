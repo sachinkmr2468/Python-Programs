{
 "cells": [
  {
   "cell_type": "markdown",
   "metadata": {},
   "source": [
    "# Python program to print all Prime numbers in an Interval\n",
    "#number should only be divisible by itself or by 1\n",
    "#use 2 loops to solve"
   ]
  },
  {
   "cell_type": "code",
   "execution_count": 5,
   "metadata": {},
   "outputs": [
    {
     "name": "stdout",
     "output_type": "stream",
     "text": [
      "907\n",
      "911\n",
      "919\n",
      "929\n",
      "937\n",
      "941\n",
      "947\n",
      "953\n",
      "967\n",
      "971\n",
      "977\n",
      "983\n",
      "991\n",
      "997\n"
     ]
    }
   ],
   "source": [
    "lower = 900\n",
    "upper = 1000\n",
    "\n",
    "for num in range(lower, upper + 1):\n",
    "    if num > 1:\n",
    "        for i in range(2,num):\n",
    "            if (num % i) == 0:\n",
    "                break\n",
    "        else:\n",
    "            print(num)\n",
    "\n",
    "\n",
    "    \n"
   ]
  },
  {
   "cell_type": "code",
   "execution_count": 7,
   "metadata": {},
   "outputs": [
    {
     "name": "stdout",
     "output_type": "stream",
     "text": [
      "enter the 1st number1\n",
      "enter the 2nd number100\n",
      "prime numbers is 2\n",
      "prime numbers is 3\n",
      "prime numbers is 5\n",
      "prime numbers is 7\n",
      "prime numbers is 11\n",
      "prime numbers is 13\n",
      "prime numbers is 17\n",
      "prime numbers is 19\n",
      "prime numbers is 23\n",
      "prime numbers is 29\n",
      "prime numbers is 31\n",
      "prime numbers is 37\n",
      "prime numbers is 41\n",
      "prime numbers is 43\n",
      "prime numbers is 47\n",
      "prime numbers is 53\n",
      "prime numbers is 59\n",
      "prime numbers is 61\n",
      "prime numbers is 67\n",
      "prime numbers is 71\n",
      "prime numbers is 73\n",
      "prime numbers is 79\n",
      "prime numbers is 83\n",
      "prime numbers is 89\n",
      "prime numbers is 97\n"
     ]
    }
   ],
   "source": [
    "lower = int(input('enter the 1st number'))\n",
    "upper = int(input('enter the 2nd number'))\n",
    "\n",
    "for num in range(lower, upper+1):\n",
    "    if num>1:\n",
    "        for i in range(2,num):\n",
    "            if num % i == 0:\n",
    "                break\n",
    "        else:\n",
    "            print('prime numbers is', num)"
   ]
  },
  {
   "cell_type": "code",
   "execution_count": null,
   "metadata": {},
   "outputs": [],
   "source": []
  }
 ],
 "metadata": {
  "kernelspec": {
   "display_name": "Python 3",
   "language": "python",
   "name": "python3"
  },
  "language_info": {
   "codemirror_mode": {
    "name": "ipython",
    "version": 3
   },
   "file_extension": ".py",
   "mimetype": "text/x-python",
   "name": "python",
   "nbconvert_exporter": "python",
   "pygments_lexer": "ipython3",
   "version": "3.6.5"
  }
 },
 "nbformat": 4,
 "nbformat_minor": 2
}
