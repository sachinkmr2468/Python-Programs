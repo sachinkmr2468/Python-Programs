{
 "cells": [
  {
   "cell_type": "markdown",
   "metadata": {},
   "source": [
    "#Python Program for compound interest"
   ]
  },
  {
   "cell_type": "markdown",
   "metadata": {},
   "source": [
    "#Formula to calculate compound interest annually is given by:\n",
    "\n",
    "#A = P(1 + R/100) t\n",
    "#Compound Interest = A – P\n",
    "#Where,\n",
    "#A is amount\n",
    "#P is principle amount\n",
    "#R is the rate and\n",
    "#T is the time span"
   ]
  },
  {
   "cell_type": "code",
   "execution_count": 30,
   "metadata": {},
   "outputs": [
    {
     "name": "stdout",
     "output_type": "stream",
     "text": [
      "enter the principle amount100\n",
      "enter the rate of interest2\n",
      "enter the time period2\n",
      "4.039999999999992\n"
     ]
    }
   ],
   "source": [
    "P = int(input('enter the principle amount'))\n",
    "r = int(input('enter the rate of interest'))\n",
    "t = int(input('enter the time period'))\n",
    "\n",
    "amount = p * (pow((1 + r/100), t))\n",
    "ci = amount - p\n",
    "print(ci)"
   ]
  },
  {
   "cell_type": "code",
   "execution_count": 31,
   "metadata": {},
   "outputs": [
    {
     "data": {
      "text/plain": [
       "4.039999999999992"
      ]
     },
     "execution_count": 31,
     "metadata": {},
     "output_type": "execute_result"
    }
   ],
   "source": [
    "def compound_interest(p,r,t):\n",
    "    amount = p * (pow((1 + r/100), t))\n",
    "    ci = amount - p\n",
    "    return ci\n",
    "\n",
    "compound_interest(100,2,2)"
   ]
  },
  {
   "cell_type": "code",
   "execution_count": null,
   "metadata": {},
   "outputs": [],
   "source": []
  }
 ],
 "metadata": {
  "kernelspec": {
   "display_name": "Python 3",
   "language": "python",
   "name": "python3"
  },
  "language_info": {
   "codemirror_mode": {
    "name": "ipython",
    "version": 3
   },
   "file_extension": ".py",
   "mimetype": "text/x-python",
   "name": "python",
   "nbconvert_exporter": "python",
   "pygments_lexer": "ipython3",
   "version": "3.6.5"
  }
 },
 "nbformat": 4,
 "nbformat_minor": 2
}
