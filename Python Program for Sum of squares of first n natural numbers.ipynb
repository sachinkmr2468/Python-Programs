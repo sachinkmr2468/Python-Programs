{
 "cells": [
  {
   "cell_type": "markdown",
   "metadata": {},
   "source": [
    "# Python Program for Sum of squares of first n natural numbers"
   ]
  },
  {
   "cell_type": "code",
   "execution_count": 20,
   "metadata": {},
   "outputs": [
    {
     "name": "stdout",
     "output_type": "stream",
     "text": [
      "enter a number4\n",
      "288\n"
     ]
    }
   ],
   "source": [
    "num = int(input('enter a number'))\n",
    "sum = 0\n",
    "\n",
    "for i in range(1, num+1):\n",
    "    sum = (i*i) + sum\n",
    "print(sum)\n",
    "    \n",
    "    "
   ]
  },
  {
   "cell_type": "code",
   "execution_count": 10,
   "metadata": {},
   "outputs": [
    {
     "name": "stdout",
     "output_type": "stream",
     "text": [
      "enter a number to get the nth fibonacci number9\n",
      "using recursion value of fib(9) is 34\n",
      "using recursion value of fibr(9) is 34\n"
     ]
    }
   ],
   "source": [
    "num = int(input('enter a number to get the nth fibonacci number'))\n",
    "\n",
    "print(f'using recursion value of fib({num}) is {fiborecur(num)}')\n",
    "print(f'using recursion value of fibr({num}) is {fiboiter(num)}')"
   ]
  },
  {
   "cell_type": "code",
   "execution_count": 25,
   "metadata": {},
   "outputs": [
    {
     "name": "stdout",
     "output_type": "stream",
     "text": [
      "enter a number4\n",
      "30\n"
     ]
    }
   ],
   "source": [
    "def squaresum(num):\n",
    "    sum = 0\n",
    "    for i in range (1, num+1):\n",
    "        sum = sum + (i * i)\n",
    "    return sum\n",
    "\n",
    "\n",
    "number = int(input('enter a number'))\n",
    "ans = squaresum(number)\n",
    "print(ans)\n"
   ]
  },
  {
   "cell_type": "code",
   "execution_count": null,
   "metadata": {},
   "outputs": [],
   "source": []
  }
 ],
 "metadata": {
  "kernelspec": {
   "display_name": "Python 3",
   "language": "python",
   "name": "python3"
  }
 },
 "nbformat": 4,
 "nbformat_minor": 2
}
