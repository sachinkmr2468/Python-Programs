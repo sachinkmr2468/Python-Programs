{
 "cells": [
  {
   "cell_type": "markdown",
   "metadata": {},
   "source": [
    "# Python Program for n\\’th multiple of a number in Fibonacci Series"
   ]
  },
  {
   "cell_type": "code",
   "execution_count": 7,
   "metadata": {},
   "outputs": [],
   "source": [
    "def fiboiter(n):\n",
    "    prevnum = 0\n",
    "    currentnum = 1\n",
    "    for i in range(1,n):\n",
    "        prevprevnum = prevnum\n",
    "        prevnum = currentnum\n",
    "        currentnum = prevnum + prevprevnum\n",
    "    return currentnum\n",
    "        \n",
    "        \n",
    "    \n",
    "\n",
    "def fiborecur(n):\n",
    "    if n == 0:\n",
    "        return 0\n",
    "    elif n == 1:\n",
    "        return 1\n",
    "    else:\n",
    "        return fiborecur(n-1) + fiborecur(n-2)\n",
    "    "
   ]
  },
  {
   "cell_type": "code",
   "execution_count": 10,
   "metadata": {},
   "outputs": [
    {
     "name": "stdout",
     "output_type": "stream",
     "text": [
      "enter a number to get the nth fibonacci number9\n",
      "using recursion value of fib(9) is 34\n",
      "using recursion value of fibr(9) is 34\n"
     ]
    }
   ],
   "source": [
    "num = int(input('enter a number to get the nth fibonacci number'))\n",
    "\n",
    "print(f'using recursion value of fib({num}) is {fiborecur(num)}')\n",
    "print(f'using recursion value of fibr({num}) is {fiboiter(num)}')"
   ]
  },
  {
   "cell_type": "code",
   "execution_count": null,
   "metadata": {},
   "outputs": [],
   "source": []
  }
 ],
 "metadata": {
  "kernelspec": {
   "display_name": "Python 3",
   "language": "python",
   "name": "python3"
  }
 },
 "nbformat": 4,
 "nbformat_minor": 2
}
