{
 "cells": [
  {
   "cell_type": "markdown",
   "metadata": {},
   "source": [
    "# Python Program for How to check if a given number is Fibonacci number?"
   ]
  },
  {
   "cell_type": "code",
   "execution_count": 4,
   "metadata": {},
   "outputs": [
    {
     "name": "stdout",
     "output_type": "stream",
     "text": [
      "enter a number34\n",
      "yes 34 is a fabonacci number\n"
     ]
    }
   ],
   "source": [
    "n = int(input('enter a number'))\n",
    "c = 0\n",
    "a = 1\n",
    "b = 1\n",
    "if n == 0 or n == 1:\n",
    "    print('yes',n,'is a fabonacci number')\n",
    "else:\n",
    "    while c < n:\n",
    "        c = a + b\n",
    "        b = a\n",
    "        a = c\n",
    "    if c == n:\n",
    "        print('yes', n, 'is a fabonacci number')\n",
    "    else:\n",
    "        print('no',n,'is not a fabonacci number')\n",
    "    \n",
    "    "
   ]
  },
  {
   "cell_type": "code",
   "execution_count": null,
   "metadata": {},
   "outputs": [],
   "source": []
  }
 ],
 "metadata": {
  "kernelspec": {
   "display_name": "Python 3",
   "language": "python",
   "name": "python3"
  },
  "language_info": {
   "codemirror_mode": {
    "name": "ipython",
    "version": 3
   },
   "file_extension": ".py",
   "mimetype": "text/x-python",
   "name": "python",
   "nbconvert_exporter": "python",
   "pygments_lexer": "ipython3",
   "version": "3.6.5"
  }
 },
 "nbformat": 4,
 "nbformat_minor": 2
}
